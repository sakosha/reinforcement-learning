{
 "cells": [
  {
   "cell_type": "code",
   "execution_count": 1,
   "metadata": {
    "id": "twBmPWIxDeal"
   },
   "outputs": [],
   "source": [
    "from __future__ import annotations\n",
    "\n",
    "from IPython.display import HTML\n",
    "from matplotlib import animation\n",
    "from PIL import Image\n",
    "from skimage import draw\n",
    "\n",
    "import matplotlib.pyplot as plt\n",
    "import numpy as np\n",
    "\n",
    "%matplotlib inline\n",
    "# comment"
   ]
  },
  {
   "cell_type": "code",
   "execution_count": 2,
   "metadata": {
    "id": "UYGJsE-zDear"
   },
   "outputs": [],
   "source": [
    "def plot_images(img_list: list[Image]) -> animation.Animation:\n",
    "    def init():\n",
    "        img.set_data(img_list[0])\n",
    "        return (img,)\n",
    "\n",
    "    def animate(i):\n",
    "        img.set_data(img_list[i])\n",
    "        return (img,)\n",
    "\n",
    "    plt.figure(figsize=(15, 15))\n",
    "    fig = plt.figure()\n",
    "    ax = fig.gca()\n",
    "    img = ax.imshow(img_list[0])\n",
    "\n",
    "    ax.invert_yaxis()  # added\n",
    "\n",
    "    return animation.FuncAnimation(\n",
    "        fig,\n",
    "        animate,\n",
    "        init_func=init,\n",
    "        frames=len(img_list),\n",
    "        interval=20,\n",
    "        blit=True\n",
    "    )"
   ]
  },
  {
   "cell_type": "code",
   "execution_count": 3,
   "metadata": {
    "id": "Gc_r3VOJDeat"
   },
   "outputs": [],
   "source": [
    "class World:\n",
    "    def __init__(\n",
    "        self,\n",
    "        rocket: RectRocket,\n",
    "        target: Target,\n",
    "        width: int = 768,\n",
    "        height: int = 640,\n",
    "        stop_limit: int = 100\n",
    "    ) -> None:\n",
    "        self.rocket = rocket\n",
    "        self.target = target\n",
    "        self.width = width\n",
    "        self.height = height\n",
    "        self.time = 0\n",
    "        self.stop_limit = stop_limit\n",
    "        self.worlds = [np.ones((width, height), dtype=np.uint8)]\n",
    "        self.distance = []\n",
    "\n",
    "    def gen_img(self, world):\n",
    "        buff = np.array((world, world, world)) * 255\n",
    "        return buff.reshape(self.width, self.height, 3)\n",
    "\n",
    "    def run(self):\n",
    "        print('Run the world')\n",
    "\n",
    "        while True:\n",
    "            self.time += 1\n",
    "            xt, yt = self.target.move(self.time)\n",
    "            xr, yr = self.rocket.move(self.time, self.target)\n",
    "            self.distance.append(np.linalg.norm(np.array([xt, yt]) - np.array([xr, yr])))\n",
    "            rt, ct = draw.disk((int(xt), int(yt)), radius=10)  # , shape=self.worlds[-1].shape)\n",
    "            self.worlds[-1][rt, ct] = 0\n",
    "            rr, cr = draw.disk((int(xr), int(yr)), radius=10)  # , shape=self.worlds[-1].shape)\n",
    "            self.worlds[-1][rr, cr] = 0\n",
    "            self.worlds.append(np.ones((self.width, self.height), dtype=np.uint8))\n",
    "            if self.time > self.stop_limit:\n",
    "                print(len(self.worlds))\n",
    "                print('Stop the world')\n",
    "                break\n",
    "            if self.distance[-1] < 10:\n",
    "                print(len(self.worlds))  # added\n",
    "                break\n",
    "        return self.worlds"
   ]
  },
  {
   "cell_type": "code",
   "execution_count": 4,
   "metadata": {},
   "outputs": [],
   "source": [
    "class Target:\n",
    "    def __init__(self, r1: int, f1: float, r2: int, f2: float, x0: int, y0: int) -> None:\n",
    "        self.x0 = x0\n",
    "        self.y0 = y0\n",
    "        self.r1 = r1\n",
    "        self.f1 = f1\n",
    "        self.r2 = r2\n",
    "        self.f2 = f2\n",
    "        self.move(0)\n",
    "\n",
    "    def move(self, time: int) -> tuple[float, float]:\n",
    "        self.x = self.x0 + \\\n",
    "                 self.r1 * np.cos(time * 2 * np.pi * self.f1) + \\\n",
    "                 self.r2 * np.cos(time * 2 * np.pi * self.f2)\n",
    "\n",
    "        self.y = self.y0 + \\\n",
    "                 self.r1 * np.sin(time * 2 * np.pi * self.f1) + \\\n",
    "                 self.r2 * np.sin(time * 2 * np.pi * self.f2)\n",
    "\n",
    "        return self.x, self.y"
   ]
  },
  {
   "cell_type": "code",
   "execution_count": 98,
   "metadata": {
    "id": "19PtinByDeaw"
   },
   "outputs": [],
   "source": [
    "class RectRocket:\n",
    "    def __init__(self, x0: int, y0: int, v: int, angle: float) -> None:\n",
    "        self.x: float = x0\n",
    "        self.y = y0\n",
    "        self.v = v\n",
    "        self.angle = angle\n",
    "        self.previous: list = []\n",
    "\n",
    "    def move(self, time: int, target: Target) -> tuple[float, float]:\n",
    "        # Put your code here\n",
    "        # Calculate your angle and apply it to new (x,y) coords\n",
    "        # Steps:\n",
    "        # 1. Calculate alpha angle\n",
    "        # 2. Calcualte new_coordinates\n",
    "        \n",
    "        delta_x = target.x - self.x\n",
    "        delta_y = target.y - self.y\n",
    "        \n",
    "        if self.previous:\n",
    "            prev_target_x = self.previous[-1][0]\n",
    "            prev_target_y = self.previous[-1][1]\n",
    "\n",
    "            # estimated_x = target.x + target.x - prev_target_x\n",
    "            # estimated_y = target.y + target.y - prev_target_y\n",
    "\n",
    "            # exponential smoothing\n",
    "            coef = 0.2\n",
    "            estimated_x = coef * target.x + (1 - coef) * prev_target_x\n",
    "            estimated_y = coef * target.y + (1 - coef) * prev_target_y\n",
    "\n",
    "            delta_x = max(min(estimated_x, 639), 0) - self.x\n",
    "            delta_y = max(min(estimated_y, 767), 0) - self.y\n",
    "\n",
    "            # delta_x = abs(estimated_x - self.x)\n",
    "            # delta_y = abs(estimated_y - self.y)\n",
    "\n",
    "        distance = np.linalg.norm(abs(delta_x - delta_y))\n",
    "\n",
    "        self.v = min(16.26, self.v * distance * 0.3) \n",
    "        # self.v = self.v * distance * 0.05\n",
    "\n",
    "        # alpha = np.arctan(delta_y / delta_x)\n",
    "        # alpha = np.arctan(delta_x / delta_y)\n",
    "\n",
    "        alpha = np.arctan2(delta_y, delta_x)\n",
    "\n",
    "        self.previous.append((target.x, target.y))\n",
    "\n",
    "        x_new = self.x + self.v * np.cos(alpha)\n",
    "        y_new = self.y + self.v * np.sin(alpha)\n",
    "        self.x = max(min(x_new, 639), 0)\n",
    "        self.y = max(min(y_new, 767), 0)\n",
    "\n",
    "        return self.x, self.y"
   ]
  },
  {
   "cell_type": "code",
   "execution_count": 99,
   "metadata": {
    "colab": {
     "base_uri": "https://localhost:8080/",
     "height": 989
    },
    "id": "N6Fd5dmhDeay",
    "outputId": "24ac2174-30d9-4597-bc70-c89a804ffdce"
   },
   "outputs": [
    {
     "name": "stdout",
     "output_type": "stream",
     "text": [
      "Run the world\n",
      "36\n"
     ]
    },
    {
     "data": {
      "text/html": [
       "<video width=\"640\" height=\"480\" controls autoplay loop>\n",
       "  <source type=\"video/mp4\" src=\"data:video/mp4;base64,AAAAIGZ0eXBNNFYgAAACAE00ViBpc29taXNvMmF2YzEAAAAIZnJlZQAAGJptZGF0AAACrwYF//+r\n",
       "3EXpvebZSLeWLNgg2SPu73gyNjQgLSBjb3JlIDE2NCByMzA5NSBiYWVlNDAwIC0gSC4yNjQvTVBF\n",
       "Ry00IEFWQyBjb2RlYyAtIENvcHlsZWZ0IDIwMDMtMjAyMiAtIGh0dHA6Ly93d3cudmlkZW9sYW4u\n",
       "b3JnL3gyNjQuaHRtbCAtIG9wdGlvbnM6IGNhYmFjPTEgcmVmPTMgZGVibG9jaz0xOjA6MCBhbmFs\n",
       "eXNlPTB4MzoweDExMyBtZT1oZXggc3VibWU9NyBwc3k9MSBwc3lfcmQ9MS4wMDowLjAwIG1peGVk\n",
       "X3JlZj0xIG1lX3JhbmdlPTE2IGNocm9tYV9tZT0xIHRyZWxsaXM9MSA4eDhkY3Q9MSBjcW09MCBk\n",
       "ZWFkem9uZT0yMSwxMSBmYXN0X3Bza2lwPTEgY2hyb21hX3FwX29mZnNldD0tMiB0aHJlYWRzPTEy\n",
       "IGxvb2thaGVhZF90aHJlYWRzPTIgc2xpY2VkX3RocmVhZHM9MCBucj0wIGRlY2ltYXRlPTEgaW50\n",
       "ZXJsYWNlZD0wIGJsdXJheV9jb21wYXQ9MCBjb25zdHJhaW5lZF9pbnRyYT0wIGJmcmFtZXM9MyBi\n",
       "X3B5cmFtaWQ9MiBiX2FkYXB0PTEgYl9iaWFzPTAgZGlyZWN0PTEgd2VpZ2h0Yj0xIG9wZW5fZ29w\n",
       "PTAgd2VpZ2h0cD0yIGtleWludD0yNTAga2V5aW50X21pbj0yNSBzY2VuZWN1dD00MCBpbnRyYV9y\n",
       "ZWZyZXNoPTAgcmNfbG9va2FoZWFkPTQwIHJjPWNyZiBtYnRyZWU9MSBjcmY9MjMuMCBxY29tcD0w\n",
       "LjYwIHFwbWluPTAgcXBtYXg9NjkgcXBzdGVwPTQgaXBfcmF0aW89MS40MCBhcT0xOjEuMDAAgAAA\n",
       "DOhliIQAK//+9nN8CmtHM5UuBXb3ZqPl0JLl+xBg+tAAAAMAAAMAABAP0t71zGJb5SAAAAnYAkTR\n",
       "OBsVsQErZcGJPlPRV2f9b+NIHxveFbiyj6y0961fYaX11UP88D4Oe1ngOGJVCuwkuw2IsQAXWq1J\n",
       "YSyC6nJWmgdTnBosMX6hcesMIcbAdupboh4rSmXcf3EXmq+hCZvInW+NOmgJRd43CLxo4kagADgw\n",
       "sGdBYbxx3xdeziwIY0671JigZPX4YvNrkTE8l2scWbMpc1ObjVhkoVZ9kWJaioMKOK75fkOS0Aem\n",
       "7EOhwoMlppzPkXgpHPL8sKM5GyPo9Hs4LsBCvOGATAGd3u0YcQqtgI+7HOODNv0DiQK8ygHaogQN\n",
       "F8n7occ/TqJuqUu2f8oGF4K68GwjBQ+ej3hKtnWQZBFLzXtxFryjQkl86UJ34LWKPPVpQ/j5lQDt\n",
       "snjmiTUm9bxloJ64xckcAtLxnuxLp9C1axZQPlnDUABimdw/43P9qxeqrXxjUeHiuctivYzRSxNF\n",
       "uEmB85QSVnTi5H4jzlHfXIbmvm/ZrxQd6Id0y1qa96xI9XU8D3chRXJYimtey3lUyDXowrwkSR+n\n",
       "RG9bf4R3azbqp5IvnVsTsLprRazD6Az5nw/+wQCkO6YHdP2aHj09I/ibUS0631BU+ADxz8zsrHIO\n",
       "RMsd4QdV2gA/TJyLd7pKTYVfaNSL8Fq8FMKiaJrKhtD/NTcWjSTFlbBFcv4JPrOT96YCjr3SgsPq\n",
       "zTfbZRnaxsLMZIbp6hktgJYBO0iyo5VMM+tNtgijUn3N6gZ1wHhB0/nJsQBwr1aPTHwQJLq83ya/\n",
       "wZjK5S8QDRvsSa4lxUUvHnugf//SlDFKRPbsE6XbxUoSWZf4etKsV4mfwQ52k20U4gPwSn/loalR\n",
       "N2FpxNxnSUjn2f+DIn00aOU8zWzNyqzk9isbsrKjpE3plHEKzuWIj3GWwsjG045whLjIV3lb0cCv\n",
       "axhGnrv9P/YNfylBIYF3DN5cdu982dttZmPNV9HnKuKT29ZlsDez1OplGjeKhgCLtuJk+WaRUJbq\n",
       "jvUdby5Kyh8GcOZlrMXeE4vUsFJi6PxRcEZGinlWW6ZRev2gVwON/GqbS88z/4/LinPlz3IYP8Ns\n",
       "/ucu4J6CImkrYgjbIWE0HB4f5HW9iAhM2IPXUulnZdJVBSKQBTSn498XdBOPJu/aLU1/yrwWZaQL\n",
       "ONvkJSDZra7jHeZgQNRONRlWznBLnM5jgete9Mvmrgr8VbOdxL0e1FgQKD1y1tjziVj6oYL1Yh1O\n",
       "L3+dryTY7Zmeug8rJH0JEK7wwhckcAtLxjedTSCpQACxGVZh9WvgBwV2C+XFpjxdfnoBKZzHz8kG\n",
       "vKsTosbR3xVFdSkWL0dXdTcpV/CW10mTHilngq4BJvDIvp0NGCNL6NyRI9JqDvO4FrUxHuc5iIMK\n",
       "e0wbZDD/nqkY0EEUIv8CRSdG7jVsbI7TuLXRYovihCknuZDMae8V/ytD2ZeWTidc9BypxZV7BAn+\n",
       "6dmyZLu/HSjAmaEtzV3M66APqPvcOo6VrtsD2dzmtdee6Xrz4OQUvKUCmauzfmav3WYrtXmZ4Oc9\n",
       "CsYWRd0DJASa7kMhAAPQ3WefOMWgth7BvSeomPO1AS4zo5xXOyyft953yxGiv62QfeJs+8353+Fi\n",
       "oEzCfJQkDqlfeqd8g4giyXdT9uwjMzh6SM90hBzinvb8A6Pv/2tl96wSnOenTjMc3Gx6AKhTgwvk\n",
       "9mpRrOIZ7z+qliraIqXdRCPAl3PMTl9aOTicJ5EqMtAnB48VllAfwU4UKJhPL83/1nIkAbO23TUL\n",
       "mbNRE4zKv9deMP0l0/fZxvN6E8LMkGrt/Q3qbE2HvVYsY5OeK7HsSZeU1JQASNs3uUwOrdtvNmGy\n",
       "AADs260PCGSiYU5AGag2Dkq7GJ+VdDMJIzsppi+QTyd6y98YowvVs51fm+ISGsodgCT5F0g2XyrC\n",
       "FFS7A9lGpt2S6nxovWlS8o5GFteDUQ7HwIrpLA6zaPWU4TL/WAIA3C058n87PimArHG8npOHOjh3\n",
       "XSXti26Y/eaTRtzW+eBNRUtSTyhTzRacEeB0ODkbRBDD33czEuTfvGCSgQ2GavQjASyXE2rXt7Uv\n",
       "I+UuldbsOKbnWQcbJFYb7WP9ekjw38KhC/mH3Q36vrR2+iyOp6pVQnOWKayT41F2CZyf9gYFJwyI\n",
       "XmhkIAAgOFKDqs1j5FbYKDBZBJVnIB+Tv8hlDHaAvM1RQp2tVX/Q12M/ZHBsP5ppgdqRFHLmVUNa\n",
       "kuGc7ZlTYINbFdlWPmyhr6gF3XZpYV9FFM/22gXt14cOv/tajQzmzvonCz8v6KwT0bG0a6/qKM+s\n",
       "q5RgdZpFXBDi5DEDXdUmaGnL6Zi3vKAOxY/b12y9pdV35faVZTcN1DExKWpYOq0cSnnJbEKW2jgd\n",
       "Ww2Iq1FoSiR6vS1pgBHfeKYaOln5dA1y7kkfajLHkYkEl+weKKpQ6+SUdQAAkfxWuks+WVu0QZGD\n",
       "JSSpSkZGrJiNn5QsBi2uHR0n6jnGngIcD1fR6nbzES0ItIubQ2ODILNoMfcUegSHaCoPWwLPXaYk\n",
       "MNAnd9l4HyCyaoLZ4tOmoaUkWRC5aeS7aEiak71W26haNpnqGtWhvmWJEQhgU9gUHIm1wfac7pQu\n",
       "fd0V7WhmnXwCR9Gx27ych9f5NqFdeTG+UixvKQxnt9i9SSS90S3v+c55nUqrRu6zpI1wLPNf7YkF\n",
       "H9sgNh41aI/SjSBFIGglsh3PFYu2PVPN/UwyJGaQRGtLqSfkAkQRJeNpaxLjx+H3d0q+e1Fl4Dqw\n",
       "REwABP3me3f8e0jdeVLhBWdkXbMUqlskwOW2ZiUCkVlv9BbXnowyEKAv6g4dlXYm11YCQZKrnMLN\n",
       "Zi3gGtaEW5voiRXk6zhZoBvglL8G/3WdhK9qFkX0tjHg+UnZNW9xC/TBsdxa7dVbK3yChWVG13K9\n",
       "vA4A99O0/EV0I4yBuJzmIgk2M14enGyKYMbxEsYXR4tZZCvna0wYTlmctEws6tOx+ht0vFJxppok\n",
       "UZK0b/JG7D6iacBnSfGd9rUcFf5zcgucEgC2wrWZrgUrpmcWOgtI9aemhvRFLTpyAJ3VFjFJsTbZ\n",
       "h2RBPelOf5NM+7GfTyjN5yVALN1xt3HyColXpvdtCXAb/G5/ijGr76uhpEiUkrZdsgge3Qadjo+I\n",
       "Lz5Qn8EgmN6WYSbs/dS0zFHApBIvVMuxobG80o8KnMiphYIy8YNMxUL8i0idJNBbwy9FmqS9yxkl\n",
       "TrHCbsiw32rB7HZwQzrUpP1Kc9J9GCKO4KHYBSBfAQJgWZrBlUm/OHP+rFQKYjR/B6YpH6AjoILY\n",
       "M9Pl+vP36/JDWLcGXbqeiE82uIBlwFclQwSe7uXw5fUI/Tl0FvJytOj/Mku2+J8N0AxPl2MSj2y5\n",
       "e/m3krwJ5v2ddSUOBEhJFPZeNjZ+2mkZCedQKkCmQKffqFsCsxndec2NwaKkMqr12EJMs5I1f4gA\n",
       "v3zxE8ZtM3xccwgeVAuVIwCIFvl+0llDW2j3zEQF4qJKD9kNgqNEDyTzry1A+Dk5eRHg2cjhkiam\n",
       "cucwnKpvAXmCJlR7UVhJfV8MrOmagXZwJRa4I++lzuNPAo6Fcl0XfoMWsyB7gfIj78E2IKFvK34p\n",
       "vXMXByoAwtuVyarNaKg10zvSnDOib2OKbPQGfp3MqvQXpDPDmRwc+gnLpwtM7sUqdqsfsJb+Vi+7\n",
       "bR8bQYOVdqhjVZKOy+c2OGnh5ziKALwM67Y06Ei+O8RoHTdmDlRcWImAnygjYb/dUvZskOKlDJfu\n",
       "wuBqQL7l3UbXbO/wILI7Kutlpae/aSX8G3zY9Xk0gq2QxeXbs9Q9bIv3O5tpFbxr/uTn6feCbmBX\n",
       "2TJilNIIDk3/2oGQvlG9A6nrj3slx67iFhM6JCKSl1MFhAK1yIiaauUun/NxoOCifg3BuZQIMruH\n",
       "Mup0NC4P/16hC426iLwxxo/TMFO4mDqCjIh6I+by5vhLW6nyArAuq/JGpoE+cA+8fz0ss5LlVAT7\n",
       "/tOgbAYBC52alTiImTiqVG8yjsEHxuV+YSYkDpvUg8PnVg4zFEJmLBlFtzjUSHbTZFL4Q9H98VXO\n",
       "PZ7YbGEOfq3MwuOQVPNmeoDG6ksxdfY6kak8F3J5UqBxLwgDY++5keDNBDvGMIfdymw/CnJzmuwM\n",
       "dw91zR6p4+LqvWo8KDkJ6Kl0/LIYtR6yi7tGIsJ4V74hda3ET1IExHwZXVUwjtd9rOUUlXnxIdWQ\n",
       "WkyHqE7rxAU/P0Baq+k4Qe05yPGqdsRbaWh5yE9bpyjviH86zPJGjJh3KgFTM5Z1/meqtrkK1Red\n",
       "uBHKNFvU21kBoHe2VtBB6o1n7ww4fA3lpm667mjIXmsvxRG15mfPkacyg5pgBAZ7s+rmkIGiABqR\n",
       "AAAAW0GaIWxCv/44QAJql7EBJ0lwiBWyV5DC9/6dUvg855zJoEW3fKiuvhv+9MXIewTeqZ/IZZ+1\n",
       "47OVBiED5CBn2ybzEq2nHsWKrgcm+RgBQtlaGyl5z5N39w5FjxAAAABHQZpCPCGTKYQr//44QAAj\n",
       "pwNghVfopfZ77fxcnkNoDWiwAaLGwYceEun0VyQp+c8pTC1YjDGLa5flLVi1NevfgZCiAAADAesA\n",
       "AABdQZpkSeEPJlMFPCv//jhAACTfBDiWJQZb/lxhHc7AuyDylB+WKA9wAaBfhPaJDFvybF/iBqFU\n",
       "ijqqWrSYVKFo3P4XcHP8tTigPwsrIKHQdW8XDkos8QNkaqRPnD8QAAAAOgGeg2pH/wAE1jlYIBs3\n",
       "DurlCN0aMAEINksX8RsAOhAx1ntbmu485UzfAJvW3CwAADtVVt09v2kawu8AAAA3QZqFSeEPJlMC\n",
       "Ff/+OEAADJfeGdjNhABxnHseS8WZLAHMGgIsMBhLf/1ikFcG0zH1snIAAAMCBwAAAFxBmqZJ4Q8m\n",
       "UwIV//44QAAMiettJAULNHhrBbiClnJI4trodLs4gtcj39OBATLYjZrN+q8HCTH/4NLvG1YhsiqI\n",
       "bS/TkpccrDjT2kY1KuwT4M6ZpSO5CFGwAAAGBQAAAFxBmshJ4Q8mUwURPCv//jhAACLfBEP+UsbU\n",
       "xKDACpeLZEb/Ix30rgOvOeyeHjCIPA02DX5bEi9p6CrCwB9Z+rtQVmTHOWUkOV/5HgPKSh315r5d\n",
       "wgC58axhOznFjwAAAC0BnudqR/8ABJZFNzJHiQiAEKkrjJmcfleY1f7gkkCNKoQAAK2QRtqZRbDJ\n",
       "nRAAAABDQZrqSeEPJlMFPCv//jhAAAxPuQ5mpdFlIXe3K3q2N7wNX40AA5/SEE6e6tzuNKIiLdOe\n",
       "hpcWUWu8mCeX39ogAAAm4AAAACIBnwlqR/8AAZv39NHFWt8gJ3skERdYAACOBiGzBIPysz4tAAAA\n",
       "ZkGbC0nhDyZTAhX//jhAAAuvtbeff+edLl0D43nDzvr9bQAc3aAPgeZLyyb7ZIcLsfR8pTE3gI1T\n",
       "8tTpl7Ndj2oJ2yEJn/MTugk1XtyEvqTa9/1Ckf6PxWP6tmm+RYuP9oWAAABNwAAAADxBmy1J4Q8m\n",
       "UwURPCv//jhAAAQU4KUQPe18RtPSlnSfPjCLaNJMMBfQd9PJS3xVM+uvcvgoWvPTogAACPgAAAAr\n",
       "AZ9Makf/AACKsopA4eMshLdIllNABolXuAP1In1+r4AAaQZw3Q/mBY7haQAAAFBBm05J4Q8mUwIX\n",
       "//6MsAAAYzhLRefQeXkYOrwQwAOVXloesP1vqh4wqfQdJx0i31lOv/5JnMtjAVGnkgeKnWebwd8F\n",
       "qRtx/v1wAAfVcUYYNQAAAE1Bm3BJ4Q8mUwURPC///oywAABgvwvR+66tqq1SQNEAIR9nlYHVU5H1\n",
       "ZFQ5Th/MF7yJ96wwUJkNpFVkMDNulXcwA6vKimdKLej7QIJCsQAAACsBn49qR/8AADBks3SZHwD2\n",
       "xFrYJX5oANmAJNyvZr0QkAAZqgc2INjNv8uLAAAANkGbkknhDyZTBTwv//6MsAAAIj9TnTvbAO+K\n",
       "9DHuPe8AFJ4hQVXmMhlpLufTS1IgajIFWAACggAAADIBn7FqR/8AABFeaq5X5ZdGttp9pVQ8sUxf\n",
       "pgA0KMFPVJHCWN5dwgAAqUgMqPHkdT7fEQAAAE1Bm7RJ4Q8mUwU8L//+jLAAAAxnraGmsyFx4h9g\n",
       "Y0fc5hPIANVV/Efnd1poObSKaydtS55kt37lPRSiJiaU1dbBNICI+hQHCcHewAAZ8AAAADABn9Nq\n",
       "R/8AAAZH2D7SFP1rStHAKAARCci7wML0h3ZiOxcuQE3BABrilowo9L4FYu4AAABPQZvWSeEPJlMF\n",
       "PCv//jhAAAAQVResncd61ooA0g1CfeFaobA5UsP00gdcBlBfDCsp94L1kie2AYkBkvP4f/MudnXi\n",
       "TSf0g+UFv6odYAAO6QAAACYBn/VqR/8AAAMCKtwK2EWNaTQACV3/tihTL+ACEG4wLSrAZVliwAAA\n",
       "AFJBm/hJ4Q8mUwU8K//+OEAAABBvmak3tqhWIgWAYAH+cmiBYWEcwkzS0fuA/F/XZuWkCyOJlgd2\n",
       "NR63Xxw+M08F4S5jVzJNAlbuAoUSXDxgAN6BAAAAHgGeF2pH/wAAAwDI8TQvTQD1dSIAXbEupZOD\n",
       "Lfw5GQAAAFpBmhpJ4Q8mUwU8K//+OEAAAAXX2tvN1Qo3jElC939SnSr5iWJF2GOzHEmNvCIPAR5w\n",
       "Afno22rFALwl3va+wqjir7SQ6WmFTkuFoUh23j32Rxyg1R3VLPQ/6h4AAAAiAZ45akf/AAADAMP9\n",
       "r3OR1KXle3MwtawALHuL1tZFMpqY+QAAAEJBmjxJ4Q8mUwU8K//+OEAAAAMCDfBETbIOkrCdDiQ2\n",
       "IA5fsi8/waIv1GPyLU63y1uB9572U/brVO+aCar1cpf6v0UAAAAvAZ5bakf/AAADAEVkdXtTI1bx\n",
       "iAAgI3IGPqME75U2sg3oKLySA26OqSJAUxsFzrkAAABDQZpeSeEPJlMFPCf//fEAAAMABUfYi0nL\n",
       "4r/OPoMp8AGixtdsSv6PN1ZyaQsP8I8A09gteZn4xYrLEZIwOMVDH92HgQAAACkBnn1qR/8AAAMA\n",
       "R2RTeMK5xchjuo/zNdcBUHjhAQ4RkWbMc1o8kDruIAAAAD9Bmn9J4Q8mUwIT//3xAAADAACtcn22\n",
       "0KA1IOS0AF8qLneedSm1INSCZPI3EJof2Cbdu+6jpHQCYD4o6bF3RcAAAAA+QZqASeEPJlMCE//9\n",
       "8QAAAwAAPJZPnxtgAgNnKXxGQ8zDhhH7IkqQfn0PbdPXrwawzRTnDwvnrSgJo8hMiYEAAAA8QZqh\n",
       "SeEPJlMCE//98QAAAwAAPlv+1mNRNV1vETWPXT5uDuYCgeihbgNcJAABT/RcXrA8msuItFoHR+aA\n",
       "AAAAH0Gaw0nhDyZTBRE8f/yEAAADAACLetj/5+umyFRAUMEAAAAdAZ7iakf/AAADAAE15v26tiLn\n",
       "tdPER3aGhky4KpgAAAS6bW9vdgAAAGxtdmhkAAAAAAAAAAAAAAAAAAAD6AAAAtAAAQAAAQAAAAAA\n",
       "AAAAAAAAAAEAAAAAAAAAAAAAAAAAAAABAAAAAAAAAAAAAAAAAABAAAAAAAAAAAAAAAAAAAAAAAAA\n",
       "AAAAAAAAAAAAAAAAAgAAA+R0cmFrAAAAXHRraGQAAAADAAAAAAAAAAAAAAABAAAAAAAAAtAAAAAA\n",
       "AAAAAAAAAAAAAAAAAAEAAAAAAAAAAAAAAAAAAAABAAAAAAAAAAAAAAAAAABAAAAAAoAAAAHgAAAA\n",
       "AAAkZWR0cwAAABxlbHN0AAAAAAAAAAEAAALQAAACAAABAAAAAANcbWRpYQAAACBtZGhkAAAAAAAA\n",
       "AAAAAAAAAAAyAAAAJABVxAAAAAAALWhkbHIAAAAAAAAAAHZpZGUAAAAAAAAAAAAAAABWaWRlb0hh\n",
       "bmRsZXIAAAADB21pbmYAAAAUdm1oZAAAAAEAAAAAAAAAAAAAACRkaW5mAAAAHGRyZWYAAAAAAAAA\n",
       "AQAAAAx1cmwgAAAAAQAAAsdzdGJsAAAAt3N0c2QAAAAAAAAAAQAAAKdhdmMxAAAAAAAAAAEAAAAA\n",
       "AAAAAAAAAAAAAAAAAoAB4ABIAAAASAAAAAAAAAABAAAAAAAAAAAAAAAAAAAAAAAAAAAAAAAAAAAA\n",
       "AAAAAAAAGP//AAAANWF2Y0MBZAAf/+EAGGdkAB+s2UCgPaEAAAMAAQAAAwBkDxgxlgEABmjr48si\n",
       "wP34+AAAAAAcdXVpZGtoQPJfJE/FujmlG88DI/MAAAAAAAAAGHN0dHMAAAAAAAAAAQAAACQAAAEA\n",
       "AAAAFHN0c3MAAAAAAAAAAQAAAAEAAAEIY3R0cwAAAAAAAAAfAAAAAwAAAgAAAAABAAADAAAAAAEA\n",
       "AAEAAAAAAgAAAgAAAAABAAADAAAAAAEAAAEAAAAAAQAAAwAAAAABAAABAAAAAAEAAAIAAAAAAQAA\n",
       "AwAAAAABAAABAAAAAAEAAAIAAAAAAQAAAwAAAAABAAABAAAAAAEAAAMAAAAAAQAAAQAAAAABAAAD\n",
       "AAAAAAEAAAEAAAAAAQAAAwAAAAABAAABAAAAAAEAAAMAAAAAAQAAAQAAAAABAAADAAAAAAEAAAEA\n",
       "AAAAAQAAAwAAAAABAAABAAAAAAEAAAMAAAAAAQAAAQAAAAADAAACAAAAAAEAAAMAAAAAAQAAAQAA\n",
       "AAAcc3RzYwAAAAAAAAABAAAAAQAAACQAAAABAAAApHN0c3oAAAAAAAAAAAAAACQAAA+fAAAAXwAA\n",
       "AEsAAABhAAAAPgAAADsAAABgAAAAYAAAADEAAABHAAAAJgAAAGoAAABAAAAALwAAAFQAAABRAAAA\n",
       "LwAAADoAAAA2AAAAUQAAADQAAABTAAAAKgAAAFYAAAAiAAAAXgAAACYAAABGAAAAMwAAAEcAAAAt\n",
       "AAAAQwAAAEIAAABAAAAAIwAAACEAAAAUc3RjbwAAAAAAAAABAAAAMAAAAGJ1ZHRhAAAAWm1ldGEA\n",
       "AAAAAAAAIWhkbHIAAAAAAAAAAG1kaXJhcHBsAAAAAAAAAAAAAAAALWlsc3QAAAAlqXRvbwAAAB1k\n",
       "YXRhAAAAAQAAAABMYXZmNTkuMjcuMTAw\n",
       "\">\n",
       "  Your browser does not support the video tag.\n",
       "</video>"
      ],
      "text/plain": [
       "<IPython.core.display.HTML object>"
      ]
     },
     "execution_count": 99,
     "metadata": {},
     "output_type": "execute_result"
    },
    {
     "data": {
      "text/plain": [
       "<Figure size 1500x1500 with 0 Axes>"
      ]
     },
     "metadata": {},
     "output_type": "display_data"
    },
    {
     "data": {
      "image/png": "[encoded data removed]",
      "text/plain": [
       "<Figure size 640x480 with 1 Axes>"
      ]
     },
     "metadata": {},
     "output_type": "display_data"
    }
   ],
   "source": [
    "rocket = RectRocket(600, 320, 5, 0)\n",
    "target = Target(250, 0.01, 5, 0.01, 400, 320)\n",
    "world = World(rocket, target)\n",
    "\n",
    "\n",
    "HTML(plot_images(world.run()).to_html5_video())"
   ]
  },
  {
   "cell_type": "code",
   "execution_count": 100,
   "metadata": {
    "colab": {
     "base_uri": "https://localhost:8080/",
     "height": 447
    },
    "id": "oUw5vNPODea2",
    "outputId": "37c915bb-8f7e-4560-8e71-9449ebd91f76"
   },
   "outputs": [
    {
     "data": {
      "text/plain": [
       "[<matplotlib.lines.Line2D at 0x7f935ff90050>]"
      ]
     },
     "execution_count": 100,
     "metadata": {},
     "output_type": "execute_result"
    },
    {
     "data": {
      "image/png": "[encoded data removed]",
      "text/plain": [
       "<Figure size 640x480 with 1 Axes>"
      ]
     },
     "metadata": {},
     "output_type": "display_data"
    }
   ],
   "source": [
    "plt.plot(world.distance)"
   ]
  },
  {
   "cell_type": "code",
   "execution_count": null,
   "metadata": {},
   "outputs": [],
   "source": []
  }
 ],
 "metadata": {
  "colab": {
   "provenance": []
  },
  "kernelspec": {
   "display_name": "Python 3 (ipykernel)",
   "language": "python",
   "name": "python3"
  },
  "language_info": {
   "codemirror_mode": {
    "name": "ipython",
    "version": 3
   },
   "file_extension": ".py",
   "mimetype": "text/x-python",
   "name": "python",
   "nbconvert_exporter": "python",
   "pygments_lexer": "ipython3",
   "version": "3.11.10"
  }
 },
 "nbformat": 4,
 "nbformat_minor": 4
}

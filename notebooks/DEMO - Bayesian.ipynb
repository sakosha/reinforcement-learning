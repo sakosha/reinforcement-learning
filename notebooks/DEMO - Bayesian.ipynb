{
 "cells": [
  {
   "cell_type": "code",
   "execution_count": 1,
   "id": "c8bb75a9",
   "metadata": {
    "scrolled": true
   },
   "outputs": [
    {
     "name": "stdout",
     "output_type": "stream",
     "text": [
      "Factor(variables=['x', 'y', 'z'], table=\n",
      "(Assignment({'x': 1, 'y': 1, 'z': 1}), 64)\n",
      "(Assignment({'x': 1, 'y': 1, 'z': 2}), 32)\n",
      "(Assignment({'x': 1, 'y': 2, 'z': 1}), 16)\n",
      "(Assignment({'x': 1, 'y': 2, 'z': 2}), 8)\n",
      "(Assignment({'x': 2, 'y': 1, 'z': 1}), 4)\n",
      "(Assignment({'x': 2, 'y': 1, 'z': 2}), 2)\n",
      "(Assignment({'x': 2, 'y': 2, 'z': 1}), 1)\n",
      "(Assignment({'x': 2, 'y': 2, 'z': 2}), 1))\n",
      "\n",
      "Factor(variables=['x', 'y', 'z'], table=\n",
      "(Assignment({'x': 1, 'y': 1, 'z': 1}), 0.5)\n",
      "(Assignment({'x': 1, 'y': 1, 'z': 2}), 0.25)\n",
      "(Assignment({'x': 1, 'y': 2, 'z': 1}), 0.125)\n",
      "(Assignment({'x': 1, 'y': 2, 'z': 2}), 0.0625)\n",
      "(Assignment({'x': 2, 'y': 1, 'z': 1}), 0.03125)\n",
      "(Assignment({'x': 2, 'y': 1, 'z': 2}), 0.015625)\n",
      "(Assignment({'x': 2, 'y': 2, 'z': 1}), 0.0078125)\n",
      "(Assignment({'x': 2, 'y': 2, 'z': 2}), 0.0078125))\n",
      "\n",
      "Factor(variables=['x', 'y'], table=\n",
      "(Assignment({'x': 1, 'y': 1}), 0.75)\n",
      "(Assignment({'x': 1, 'y': 2}), 0.1875)\n",
      "(Assignment({'x': 2, 'y': 1}), 0.046875)\n",
      "(Assignment({'x': 2, 'y': 2}), 0.015625))\n",
      "\n",
      "Factor(variables=['x', 'y', 'z'], table=\n",
      "(Assignment({'x': 1, 'y': 1, 'z': 1}), -0.5)\n",
      "(Assignment({'x': 1, 'y': 1, 'z': 2}), -0.25)\n",
      "(Assignment({'x': 1, 'y': 2, 'z': 1}), -0.125)\n",
      "(Assignment({'x': 1, 'y': 2, 'z': 2}), 0.625)\n",
      "(Assignment({'x': 2, 'y': 1, 'z': 1}), -0.03125)\n",
      "(Assignment({'x': 2, 'y': 1, 'z': 2}), -0.015625)\n",
      "(Assignment({'x': 2, 'y': 2, 'z': 1}), -0.0078125)\n",
      "(Assignment({'x': 2, 'y': 2, 'z': 2}), -0.0078125))\n"
     ]
    }
   ],
   "source": [
    "from collections.abc import Iterator\n",
    "\n",
    "from dataclasses import dataclass\n",
    "from dataclasses import field\n",
    "\n",
    "# from prettyprinter import pprint\n",
    "from pprint import pprint\n",
    "\n",
    "import itertools\n",
    "\n",
    "\n",
    "@dataclass(frozen=True)\n",
    "class Variable:\n",
    "    \"\"\"\n",
    "    Represents a random variable in a Bayesian network.\n",
    "\n",
    "    Attributes:\n",
    "        name (str): The name of the variable.\n",
    "        r (int): The number of possible values (states) the variable can take.\n",
    "    \"\"\"\n",
    "\n",
    "    name: str\n",
    "    r: int  # Number of possible values\n",
    "\n",
    "    def __repr__(self) -> str:\n",
    "        return f'{self.name}'\n",
    "\n",
    "\n",
    "@dataclass(frozen=True)\n",
    "class Assignment:\n",
    "    \"\"\"\n",
    "    Represents an assignment of values to variables.\n",
    "\n",
    "    Attributes:\n",
    "        values (dict[str, int]): A mapping from variable names to their assigned values.\n",
    "    \"\"\"\n",
    "\n",
    "    values: dict[str, int]\n",
    "\n",
    "    def __getitem__(self, var_name: str) -> int:\n",
    "        return self.values[var_name]\n",
    "\n",
    "    def __repr__(self) -> str:\n",
    "        return f'Assignment({self.values})'\n",
    "\n",
    "    def __hash__(self) -> int:\n",
    "        # Use frozenset of items to make it hashable\n",
    "        return hash(frozenset(self.values.items()))\n",
    "\n",
    "    def __eq__(self, other) -> bool:\n",
    "        if not isinstance(other, Assignment):\n",
    "            return NotImplemented\n",
    "        return self.values == other.values\n",
    "\n",
    "\n",
    "@dataclass\n",
    "class Factor:\n",
    "    \"\"\"\n",
    "    Represents a factor in the Bayesian network.\n",
    "\n",
    "    Attributes:\n",
    "        variables (list[Variable]): Variables involved in the factor.\n",
    "        table (dict[Assignment, float]): A mapping from variable assignments to probabilities.\n",
    "    \"\"\"\n",
    "\n",
    "    variables: list[Variable]\n",
    "    table: dict[Assignment, float] = field(default_factory=dict)\n",
    "\n",
    "    def __post_init__(self) -> None:\n",
    "        self.var_names = [var.name for var in self.variables]\n",
    "\n",
    "    def assignments(self) -> list[Assignment]:\n",
    "        \"\"\"\n",
    "        Generates all possible assignments for the variables in this factor.\n",
    "\n",
    "        Returns:\n",
    "            list[Assignment]: A list of all possible assignments.\n",
    "        \"\"\"\n",
    "        ranges = [range(1, var.r + 1) for var in self.variables]\n",
    "        assignments: list[Assignment] = []\n",
    "        for values in itertools.product(*ranges):\n",
    "            assignment = Assignment(\n",
    "                values=dict(zip(self.var_names, values, strict=False))\n",
    "            )\n",
    "            assignments.append(assignment)\n",
    "        return assignments\n",
    "\n",
    "    def normalize(self) -> None:\n",
    "        \"\"\"\n",
    "        Normalizes the factor so that the sum of probabilities is 1.\n",
    "        \"\"\"\n",
    "        total = sum(self.table.values())\n",
    "        if total != 0:\n",
    "            for assignment in self.table:\n",
    "                self.table[assignment] /= total\n",
    "\n",
    "    def marginalize(\n",
    "        self, var_to_marginalize: Variable\n",
    "    ) -> 'Factor':  # exclude a factor & compute chances\n",
    "        \"\"\"\n",
    "        Marginalizes out a variable from the factor.\n",
    "\n",
    "        Args:\n",
    "            var_to_marginalize (Variable): The variable to be marginalized out.\n",
    "\n",
    "        Returns:\n",
    "            Factor: A new factor with the variable marginalized out.\n",
    "        \"\"\"\n",
    "        new_vars = [var for var in self.variables if var != var_to_marginalize]\n",
    "        new_table = {}\n",
    "        for assignment in self.assignments():\n",
    "            # Remove the variable to marginalize from the assignment\n",
    "            new_assignment_values = {\n",
    "                k: v\n",
    "                for k, v in assignment.values.items()\n",
    "                if k != var_to_marginalize.name\n",
    "            }\n",
    "            new_assignment = Assignment(new_assignment_values)\n",
    "            prob = self.table.get(assignment, 0.0)\n",
    "            # Sum probabilities for the same assignment after removing the variable\n",
    "            new_table[new_assignment] = (\n",
    "                new_table.get(new_assignment, 0.0) + prob\n",
    "            )\n",
    "        return Factor(new_vars, new_table)\n",
    "\n",
    "    def __mul__(self, other: 'Factor') -> 'Factor':\n",
    "        \"\"\"\n",
    "        Multiplies this factor with another factor.\n",
    "\n",
    "        Args:\n",
    "            other (Factor): The other factor to multiply with.\n",
    "\n",
    "        Returns:\n",
    "            Factor: A new factor resulting from the multiplication.\n",
    "        \"\"\"\n",
    "        # Determine the set of variables in the new factor\n",
    "        new_vars_dict = {\n",
    "            var.name: var for var in self.variables + other.variables\n",
    "        }\n",
    "        new_vars = list(new_vars_dict.values())\n",
    "        new_var_names = [var.name for var in new_vars]\n",
    "\n",
    "        # Prepare the table for the new factor\n",
    "        new_table = {}\n",
    "\n",
    "        # Generate all possible assignments for new_vars\n",
    "        ranges = [range(1, var.r + 1) for var in new_vars]\n",
    "        for values in itertools.product(*ranges):\n",
    "            assignment_values = dict(zip(new_var_names, values, strict=False))\n",
    "            assignment = Assignment(assignment_values)\n",
    "\n",
    "            # Get the values from self and other for this assignment\n",
    "            self_assignment_values = {\n",
    "                k: v\n",
    "                for k, v in assignment_values.items()\n",
    "                if k in [var.name for var in self.variables]\n",
    "            }\n",
    "            self_assignment = Assignment(self_assignment_values)\n",
    "            self_value = self.table.get(self_assignment, 0.0)\n",
    "\n",
    "            other_assignment_values = {\n",
    "                k: v\n",
    "                for k, v in assignment_values.items()\n",
    "                if k in [var.name for var in other.variables]\n",
    "            }\n",
    "            other_assignment = Assignment(other_assignment_values)\n",
    "            other_value = other.table.get(other_assignment, 0.0)\n",
    "\n",
    "            # Multiply the values\n",
    "            new_table[assignment] = self_value * other_value\n",
    "\n",
    "        return Factor(new_vars, new_table)\n",
    "\n",
    "    def __repr__(self) -> str:\n",
    "        table_str = '\\n'.join([str(item) for item in self.table.items()])\n",
    "        return f'Factor(variables={self.var_names}, table=\\n{table_str})'\n",
    "\n",
    "\n",
    "# Example usage:\n",
    "\n",
    "# Define variables\n",
    "x = Variable('x', 2)\n",
    "y = Variable('y', 2)\n",
    "z = Variable('z', 2)\n",
    "\n",
    "\n",
    "# Define a factor table\n",
    "ft = {\n",
    "    Assignment(values={'x': 1, 'y': 1, 'z': 1}): 64,\n",
    "    Assignment(values={'x': 1, 'y': 1, 'z': 2}): 32,\n",
    "    Assignment(values={'x': 1, 'y': 2, 'z': 1}): 16,\n",
    "    Assignment(values={'x': 1, 'y': 2, 'z': 2}): 8,\n",
    "    Assignment(values={'x': 2, 'y': 1, 'z': 1}): 4,\n",
    "    Assignment(values={'x': 2, 'y': 1, 'z': 2}): 2,\n",
    "    Assignment(values={'x': 2, 'y': 2, 'z': 1}): 1,\n",
    "    Assignment(values={'x': 2, 'y': 2, 'z': 2}): 1,\n",
    "}\n",
    "\n",
    "# Create a factor\n",
    "phi = Factor(variables=[x, y, z], table=ft)\n",
    "\n",
    "print(phi)\n",
    "\n",
    "\n",
    "print()\n",
    "\n",
    "\n",
    "# Normalize the factor\n",
    "phi.normalize()\n",
    "\n",
    "pprint(phi, indent=2)\n",
    "\n",
    "# Marginalize out variable 'z'\n",
    "phi_marginalized = phi.marginalize(z)\n",
    "\n",
    "print()\n",
    "pprint(phi_marginalized, indent=2)\n",
    "# Multiply two factors (assuming another factor 'psi' is defined)\n",
    "\n",
    "psi = Factor(\n",
    "    variables=[x, y, z],\n",
    "    table={\n",
    "        Assignment(values={'x': 1, 'y': 1, 'z': 1}): -1,\n",
    "        Assignment(values={'x': 1, 'y': 1, 'z': 2}): -1,\n",
    "        Assignment(values={'x': 1, 'y': 2, 'z': 1}): -1,\n",
    "        Assignment(values={'x': 1, 'y': 2, 'z': 2}): 10,\n",
    "        Assignment(values={'x': 2, 'y': 1, 'z': 1}): -1,\n",
    "        Assignment(values={'x': 2, 'y': 1, 'z': 2}): -1,\n",
    "        Assignment(values={'x': 2, 'y': 2, 'z': 1}): -1,\n",
    "        Assignment(values={'x': 2, 'y': 2, 'z': 2}): -1,\n",
    "    },\n",
    ")\n",
    "\n",
    "\n",
    "phi_psi = phi * psi\n",
    "print()\n",
    "pprint(phi_psi)"
   ]
  },
  {
   "cell_type": "markdown",
   "id": "b4504f8e-23b0-4d27-992c-7bb8b87e31f5",
   "metadata": {},
   "source": [
    "### Define Variables"
   ]
  },
  {
   "cell_type": "code",
   "execution_count": 2,
   "id": "2755f188",
   "metadata": {},
   "outputs": [],
   "source": [
    "D = Variable('D', 2)  # Disease: 1 - Yes, 2 - No\n",
    "T = Variable('T', 2)  # Test Result: 1 - Positive, 2 - Negative\n",
    "S = Variable('S', 2)  # Sympton: 1 - Present, 2 - Absent"
   ]
  },
  {
   "cell_type": "markdown",
   "id": "1c896889-8224-41ba-98fc-16ecccc12cbd",
   "metadata": {},
   "source": [
    "### Define Probability Tables"
   ]
  },
  {
   "cell_type": "code",
   "execution_count": 3,
   "id": "b17a02bb-1f8d-4f04-8c5d-877cbb14b897",
   "metadata": {},
   "outputs": [
    {
     "data": {
      "text/plain": [
       "{Assignment({'D': 1}): 0.01, Assignment({'D': 2}): 0.99}"
      ]
     },
     "execution_count": 3,
     "metadata": {},
     "output_type": "execute_result"
    }
   ],
   "source": [
    "P_D = {Assignment(values=dict(D=1)): 0.01, Assignment(values=dict(D=2)): 0.99}\n",
    "P_D"
   ]
  },
  {
   "cell_type": "code",
   "execution_count": 4,
   "id": "64a6c85f-8d58-48b1-a405-c70f00d5c7c0",
   "metadata": {},
   "outputs": [
    {
     "data": {
      "text/plain": [
       "{Assignment({'T': 1, 'D': 1}): 0.95,\n",
       " Assignment({'T': 2, 'D': 1}): 0.05,\n",
       " Assignment({'T': 1, 'D': 2}): 0.1,\n",
       " Assignment({'T': 2, 'D': 2}): 0.9}"
      ]
     },
     "execution_count": 4,
     "metadata": {},
     "output_type": "execute_result"
    }
   ],
   "source": [
    "P_T_given_D = {\n",
    "    Assignment(values=dict(T=1, D=1)): 0.95,  # TP: True Positive rate\n",
    "    Assignment(values=dict(T=2, D=1)): 0.05,  # FT: False Negative rate\n",
    "    Assignment(values=dict(T=1, D=2)): 0.1,  # FN: False Positive rate\n",
    "    Assignment(values=dict(T=2, D=2)): 0.9,  # TN: True Negative rate\n",
    "}\n",
    "P_T_given_D"
   ]
  },
  {
   "cell_type": "code",
   "execution_count": 5,
   "id": "34cbd4cd-4336-4a29-9609-47e101b03778",
   "metadata": {},
   "outputs": [
    {
     "data": {
      "text/plain": [
       "{Assignment({'S': 1, 'D': 1}): 0.8,\n",
       " Assignment({'S': 2, 'D': 1}): 0.2,\n",
       " Assignment({'S': 1, 'D': 2}): 0.3,\n",
       " Assignment({'S': 2, 'D': 2}): 0.7}"
      ]
     },
     "execution_count": 5,
     "metadata": {},
     "output_type": "execute_result"
    }
   ],
   "source": [
    "P_S_given_D = {\n",
    "    Assignment(values=dict(S=1, D=1)): 0.8,\n",
    "    Assignment(values=dict(S=2, D=1)): 0.2,\n",
    "    Assignment(values=dict(S=1, D=2)): 0.3,\n",
    "    Assignment(values=dict(S=2, D=2)): 0.7,\n",
    "}\n",
    "P_S_given_D"
   ]
  },
  {
   "cell_type": "markdown",
   "id": "8c0aa36a-ce1c-4a34-acc8-6a6d6b7da909",
   "metadata": {},
   "source": [
    "### Construct the Bayesian Network"
   ]
  },
  {
   "cell_type": "code",
   "execution_count": 6,
   "id": "8ea21998-4043-483e-adf2-48ac4b47e11e",
   "metadata": {},
   "outputs": [
    {
     "data": {
      "text/plain": [
       "Factor(variables=['D'], table=\n",
       "(Assignment({'D': 1}), 0.01)\n",
       "(Assignment({'D': 2}), 0.99))"
      ]
     },
     "execution_count": 6,
     "metadata": {},
     "output_type": "execute_result"
    }
   ],
   "source": [
    "F_D = Factor(variables=[D], table=P_D)\n",
    "F_D"
   ]
  },
  {
   "cell_type": "code",
   "execution_count": 7,
   "id": "ec54b2c3-775a-4f34-beb9-5e6e7393b0c2",
   "metadata": {},
   "outputs": [
    {
     "data": {
      "text/plain": [
       "Factor(variables=['D', 'T'], table=\n",
       "(Assignment({'T': 1, 'D': 1}), 0.95)\n",
       "(Assignment({'T': 2, 'D': 1}), 0.05)\n",
       "(Assignment({'T': 1, 'D': 2}), 0.1)\n",
       "(Assignment({'T': 2, 'D': 2}), 0.9))"
      ]
     },
     "execution_count": 7,
     "metadata": {},
     "output_type": "execute_result"
    }
   ],
   "source": [
    "F_T_given_D = Factor(variables=[D, T], table=P_T_given_D)\n",
    "F_T_given_D"
   ]
  },
  {
   "cell_type": "code",
   "execution_count": 8,
   "id": "57d2b586-87d8-4111-a129-9d2ccffaa57e",
   "metadata": {},
   "outputs": [
    {
     "data": {
      "text/plain": [
       "Factor(variables=['D', 'S'], table=\n",
       "(Assignment({'S': 1, 'D': 1}), 0.8)\n",
       "(Assignment({'S': 2, 'D': 1}), 0.2)\n",
       "(Assignment({'S': 1, 'D': 2}), 0.3)\n",
       "(Assignment({'S': 2, 'D': 2}), 0.7))"
      ]
     },
     "execution_count": 8,
     "metadata": {},
     "output_type": "execute_result"
    }
   ],
   "source": [
    "F_S_given_D = Factor(variables=[D, S], table=P_S_given_D)\n",
    "F_S_given_D"
   ]
  },
  {
   "cell_type": "markdown",
   "id": "7e345f77-60e2-4b4f-986b-b0c770f9a755",
   "metadata": {},
   "source": [
    "### Perform Inference"
   ]
  },
  {
   "cell_type": "code",
   "execution_count": 9,
   "id": "b02abe6f-309e-44d8-96ae-0e3371cdcf0c",
   "metadata": {},
   "outputs": [],
   "source": [
    "# P(D | T)\n",
    "F_DT_joined = F_T_given_D * F_D"
   ]
  },
  {
   "cell_type": "code",
   "execution_count": 10,
   "id": "437ce510-6d34-4cde-a7ff-56fc3a3be351",
   "metadata": {},
   "outputs": [
    {
     "name": "stdout",
     "output_type": "stream",
     "text": [
      "{Assignment({'D': 1, 'T': 1}): 0.0095, Assignment({'D': 2, 'T': 1}): 0.099}\n",
      "\n",
      "Factor(variables=['D'], table=\n",
      "(Assignment({'D': 1, 'T': 1}), 0.0095)\n",
      "(Assignment({'D': 2, 'T': 1}), 0.099))\n",
      "\n",
      "Factor(variables=['D'], table=\n",
      "(Assignment({'D': 1, 'T': 1}), 0.08755760368663594)\n",
      "(Assignment({'D': 2, 'T': 1}), 0.9124423963133641))\n"
     ]
    }
   ],
   "source": [
    "# P(D | T=1)\n",
    "table_F_D_given_T_positive = {\n",
    "    assignment: prob\n",
    "    for assignment, prob in F_DT_joined.table.items()\n",
    "    if assignment.values['T'] == 1\n",
    "}\n",
    "print(table_F_D_given_T_positive)\n",
    "\n",
    "F_D_given_T_positive = Factor(variables=[D], table=table_F_D_given_T_positive)\n",
    "print()\n",
    "print(F_D_given_T_positive)\n",
    "print()\n",
    "F_D_given_T_positive.normalize()\n",
    "print(F_D_given_T_positive)"
   ]
  },
  {
   "cell_type": "markdown",
   "id": "d9519e62-bc0c-47f2-b177-437ef96eedec",
   "metadata": {},
   "source": [
    "### Analyze the Result"
   ]
  },
  {
   "cell_type": "markdown",
   "id": "80c541eb-e9e7-417a-aae2-8da2a2f05900",
   "metadata": {},
   "source": [
    "`The difference between the prior probability and the posterior probability.`\n",
    "\n",
    "P(D) - prior probability of disease\n",
    "P(D=1) = 0.01, meaning that the patient has a 1% chance of having the disease \n",
    "without any other information (prior knowledge). Just % of sick people in population\n",
    "\n",
    "P(D=1 | T=1) - posterior probability of disease given a positive test result.\n",
    "After seeing the positive test result (T=1), the probability of the disease (D=1) rises significantly: P(D=1 | T=1) ≈ 8.76%. \n",
    "This means that even with a positive test, the patient still only has about 8.76% chance of having the disease."
   ]
  },
  {
   "cell_type": "markdown",
   "id": "4cccc355-533a-4e64-977b-2abbf45e2d62",
   "metadata": {},
   "source": [
    "`How the positive test result affects the belief about the disease.`\n",
    "\n",
    "A positive test significantly increases the belief that the patient could have the disease,\n",
    "raising the likelihood from 1% to 8.76%.\n",
    "The test strongly suggests a possible disease, but it it has high chance of wrong diagnosis. Patient should be informed."
   ]
  },
  {
   "cell_type": "markdown",
   "id": "6964ae8e-439f-4f39-afdc-225a38dd4266",
   "metadata": {},
   "source": [
    "`The implications in decision-making, such as whether to recommend treatment.`\n",
    "\n",
    "Despite the positive test result, the posterior probability of the disease is still relatively low ~9%.\n",
    "- If disease is severe and the treatment is both non-harmful and urgent treatment could be recommended\n",
    "- Else, given that the chance of the disease is still under 10%, and the false positive rate is high 10%,\n",
    "  it might be better to recommend another test.\n",
    "\n",
    "Thus, the decision depends on the severity of the disease and the associated riskss with treatment, illness and price of tests."
   ]
  },
  {
   "cell_type": "markdown",
   "id": "ecf06ccb-0dbc-498c-933a-15098a31f30c",
   "metadata": {},
   "source": [
    "### Extension (Optional)"
   ]
  },
  {
   "cell_type": "code",
   "execution_count": 11,
   "id": "e9ce0fd9-350a-463b-9a1a-4613259aaefa",
   "metadata": {},
   "outputs": [],
   "source": [
    "# P(D | S)\n",
    "F_DS_joined = F_S_given_D * F_D"
   ]
  },
  {
   "cell_type": "code",
   "execution_count": 12,
   "id": "5aa198de-805d-4720-9dcc-dbae3b831f87",
   "metadata": {},
   "outputs": [
    {
     "name": "stdout",
     "output_type": "stream",
     "text": [
      "{Assignment({'D': 1, 'S': 1}): 0.008, Assignment({'D': 2, 'S': 1}): 0.297}\n",
      "\n",
      "Factor(variables=['D'], table=\n",
      "(Assignment({'D': 1, 'S': 1}), 0.008)\n",
      "(Assignment({'D': 2, 'S': 1}), 0.297))\n",
      "\n",
      "Factor(variables=['D'], table=\n",
      "(Assignment({'D': 1, 'S': 1}), 0.02622950819672131)\n",
      "(Assignment({'D': 2, 'S': 1}), 0.9737704918032787))\n"
     ]
    }
   ],
   "source": [
    "table_F_D_given_S_present = {\n",
    "    assignment: prob\n",
    "    for assignment, prob in F_DS_joined.table.items()\n",
    "    if assignment.values['S'] == 1\n",
    "}\n",
    "print(table_F_D_given_S_present)\n",
    "\n",
    "F_D_given_S_present = Factor(variables=[D], table=table_F_D_given_S_present)\n",
    "print()\n",
    "print(F_D_given_S_present)\n",
    "print()\n",
    "F_D_given_S_present.normalize()\n",
    "print(F_D_given_S_present)"
   ]
  },
  {
   "cell_type": "code",
   "execution_count": 13,
   "id": "2a732dea-c3dc-4362-a78a-e12f0c629d58",
   "metadata": {},
   "outputs": [
    {
     "name": "stdout",
     "output_type": "stream",
     "text": [
      "Factor(variables=['D'], table=\n",
      "(Assignment({'D': 1}), 0.0)\n",
      "(Assignment({'D': 2}), 0.0))\n",
      "Factor(variables=['D'], table=\n",
      "(Assignment({'D': 1}), 0.0)\n",
      "(Assignment({'D': 2}), 0.0))\n"
     ]
    }
   ],
   "source": [
    "# P(D | T=1 | S=1)\n",
    "P_D_given_T1_S1 = F_D_given_S_present * F_D_given_T_positive\n",
    "print(P_D_given_T1_S1)\n",
    "P_D_given_T1_S1.normalize()\n",
    "print(P_D_given_T1_S1)"
   ]
  },
  {
   "cell_type": "markdown",
   "id": "890bf4c4-a3e6-443c-b91e-b294bd8aa738",
   "metadata": {},
   "source": [
    "### Reflect"
   ]
  },
  {
   "cell_type": "code",
   "execution_count": null,
   "id": "48c32963-bae8-4cb1-b848-484a76cd2d26",
   "metadata": {},
   "outputs": [],
   "source": []
  },
  {
   "cell_type": "code",
   "execution_count": null,
   "id": "497c34eb-1655-492f-9a13-ea3b0af905d6",
   "metadata": {},
   "outputs": [],
   "source": []
  }
 ],
 "metadata": {
  "kernelspec": {
   "display_name": "Python 3 (ipykernel)",
   "language": "python",
   "name": "python3"
  },
  "language_info": {
   "codemirror_mode": {
    "name": "ipython",
    "version": 3
   },
   "file_extension": ".py",
   "mimetype": "text/x-python",
   "name": "python",
   "nbconvert_exporter": "python",
   "pygments_lexer": "ipython3",
   "version": "3.11.10"
  }
 },
 "nbformat": 4,
 "nbformat_minor": 5
}
